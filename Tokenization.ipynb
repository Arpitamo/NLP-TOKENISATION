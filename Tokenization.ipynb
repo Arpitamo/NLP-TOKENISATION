{
  "nbformat": 4,
  "nbformat_minor": 0,
  "metadata": {
    "colab": {
      "provenance": [],
      "authorship_tag": "ABX9TyOQAtk16CgX2Zx+YsN17Qm1",
      "include_colab_link": true
    },
    "kernelspec": {
      "name": "python3",
      "display_name": "Python 3"
    },
    "language_info": {
      "name": "python"
    }
  },
  "cells": [
    {
      "cell_type": "markdown",
      "metadata": {
        "id": "view-in-github",
        "colab_type": "text"
      },
      "source": [
        "<a href=\"https://colab.research.google.com/github/Arpitamo/NLP-TOKENISATION/blob/main/Tokenization.ipynb\" target=\"_parent\"><img src=\"https://colab.research.google.com/assets/colab-badge.svg\" alt=\"Open In Colab\"/></a>"
      ]
    },
    {
      "cell_type": "code",
      "execution_count": 1,
      "metadata": {
        "id": "5_FudfZOn4CI"
      },
      "outputs": [],
      "source": [
        "# data.py\n",
        "\n",
        "def load_data():\n",
        "    sentences = [\n",
        "        \"I love this movie\",\n",
        "        \"I hate this movie\",\n",
        "        \"This film was amazing\",\n",
        "        \"Worst experience ever\",\n",
        "        \"Absolutely fantastic!\",\n",
        "        \"Not my cup of tea\"\n",
        "    ]\n",
        "    labels = [1, 0, 1, 0, 1, 0]  # 1 = Positive, 0 = Negative\n",
        "    return sentences, labels"
      ]
    },
    {
      "cell_type": "code",
      "source": [
        "# tokenizer.py\n",
        "\n",
        "from tensorflow.keras.preprocessing.text import Tokenizer\n",
        "from tensorflow.keras.preprocessing.sequence import pad_sequences\n",
        "\n",
        "def get_tokenizer(sentences, num_words=100):\n",
        "    tokenizer = Tokenizer(num_words=num_words, oov_token=\"<OOV>\")\n",
        "    tokenizer.fit_on_texts(sentences)\n",
        "    sequences = tokenizer.texts_to_sequences(sentences)\n",
        "    padded = pad_sequences(sequences, padding='post')\n",
        "    return tokenizer, padded"
      ],
      "metadata": {
        "id": "wASYiddioBxi"
      },
      "execution_count": 5,
      "outputs": []
    },
    {
      "cell_type": "code",
      "source": [
        "# model.py\n",
        "\n",
        "from tensorflow.keras.models import Sequential\n",
        "from tensorflow.keras.layers import Embedding, GlobalAveragePooling1D, Dense\n",
        "\n",
        "def build_model(vocab_size=100):\n",
        "    model = Sequential([\n",
        "        Embedding(input_dim=vocab_size, output_dim=16),\n",
        "        GlobalAveragePooling1D(),\n",
        "        Dense(16, activation='relu'),\n",
        "        Dense(1, activation='sigmoid')\n",
        "    ])\n",
        "    model.compile(loss='binary_crossentropy', optimizer='adam', metrics=['accuracy'])\n",
        "    return model"
      ],
      "metadata": {
        "id": "yIqaDaeKoKNJ"
      },
      "execution_count": 3,
      "outputs": []
    },
    {
      "cell_type": "code",
      "source": [
        "# data.py\n",
        "def load_data():\n",
        "    sentences = [\n",
        "        \"I love this movie\",\n",
        "        \"I hate this movie\",\n",
        "        \"This film was amazing\",\n",
        "        \"Worst experience ever\",\n",
        "        \"Absolutely fantastic!\",\n",
        "        \"Not my cup of tea\"\n",
        "    ]\n",
        "    labels = [1, 0, 1, 0, 1, 0]  # 1 = Positive, 0 = Negative\n",
        "    return sentences, labels\n",
        "\n",
        "# tokenizer.py\n",
        "from tensorflow.keras.preprocessing.text import Tokenizer\n",
        "from tensorflow.keras.preprocessing.sequence import pad_sequences\n",
        "\n",
        "def get_tokenizer(sentences, num_words=100):\n",
        "    tokenizer = Tokenizer(num_words=num_words, oov_token=\"<OOV>\")\n",
        "    tokenizer.fit_on_texts(sentences)\n",
        "    sequences = tokenizer.texts_to_sequences(sentences)\n",
        "    padded = pad_sequences(sequences, padding='post')\n",
        "    return tokenizer, padded\n",
        "\n",
        "# model.py\n",
        "from tensorflow.keras.models import Sequential\n",
        "from tensorflow.keras.layers import Embedding, GlobalAveragePooling1D, Dense\n",
        "\n",
        "def build_model(vocab_size=100):\n",
        "    model = Sequential([\n",
        "        Embedding(input_dim=vocab_size, output_dim=16),\n",
        "        GlobalAveragePooling1D(),\n",
        "        Dense(16, activation='relu'),\n",
        "        Dense(1, activation='sigmoid')\n",
        "    ])\n",
        "    model.compile(loss='binary_crossentropy', optimizer='adam', metrics=['accuracy'])\n",
        "    return model\n",
        "\n",
        "# train.py\n",
        "import numpy as np\n",
        "import json\n",
        "\n",
        "# Load data\n",
        "sentences, labels = load_data()\n",
        "labels = np.array(labels)\n",
        "\n",
        "# Tokenize and pad\n",
        "tokenizer, padded = get_tokenizer(sentences)\n",
        "\n",
        "# Build model\n",
        "model = build_model()\n",
        "\n",
        "# Train model\n",
        "model.fit(padded, labels, epochs=10)\n",
        "\n",
        "# Save model\n",
        "model.save(\"sentiment_model.h5\")\n",
        "\n",
        "# Save tokenizer word index\n",
        "with open(\"word_index.json\", \"w\") as f:\n",
        "    json.dump(tokenizer.word_index, f)"
      ],
      "metadata": {
        "colab": {
          "base_uri": "https://localhost:8080/"
        },
        "id": "U3OpGgjMoN40",
        "outputId": "96cd1590-2e5b-47fb-a7c5-5037bd52aa77"
      },
      "execution_count": 6,
      "outputs": [
        {
          "output_type": "stream",
          "name": "stdout",
          "text": [
            "Epoch 1/10\n",
            "\u001b[1m1/1\u001b[0m \u001b[32m━━━━━━━━━━━━━━━━━━━━\u001b[0m\u001b[37m\u001b[0m \u001b[1m1s\u001b[0m 1s/step - accuracy: 0.5000 - loss: 0.6946\n",
            "Epoch 2/10\n",
            "\u001b[1m1/1\u001b[0m \u001b[32m━━━━━━━━━━━━━━━━━━━━\u001b[0m\u001b[37m\u001b[0m \u001b[1m0s\u001b[0m 52ms/step - accuracy: 0.5000 - loss: 0.6933\n",
            "Epoch 3/10\n",
            "\u001b[1m1/1\u001b[0m \u001b[32m━━━━━━━━━━━━━━━━━━━━\u001b[0m\u001b[37m\u001b[0m \u001b[1m0s\u001b[0m 56ms/step - accuracy: 0.5000 - loss: 0.6922\n",
            "Epoch 4/10\n",
            "\u001b[1m1/1\u001b[0m \u001b[32m━━━━━━━━━━━━━━━━━━━━\u001b[0m\u001b[37m\u001b[0m \u001b[1m0s\u001b[0m 55ms/step - accuracy: 0.5000 - loss: 0.6912\n",
            "Epoch 5/10\n",
            "\u001b[1m1/1\u001b[0m \u001b[32m━━━━━━━━━━━━━━━━━━━━\u001b[0m\u001b[37m\u001b[0m \u001b[1m0s\u001b[0m 46ms/step - accuracy: 0.8333 - loss: 0.6901\n",
            "Epoch 6/10\n",
            "\u001b[1m1/1\u001b[0m \u001b[32m━━━━━━━━━━━━━━━━━━━━\u001b[0m\u001b[37m\u001b[0m \u001b[1m0s\u001b[0m 47ms/step - accuracy: 0.8333 - loss: 0.6890\n",
            "Epoch 7/10\n",
            "\u001b[1m1/1\u001b[0m \u001b[32m━━━━━━━━━━━━━━━━━━━━\u001b[0m\u001b[37m\u001b[0m \u001b[1m0s\u001b[0m 59ms/step - accuracy: 1.0000 - loss: 0.6881\n",
            "Epoch 8/10\n",
            "\u001b[1m1/1\u001b[0m \u001b[32m━━━━━━━━━━━━━━━━━━━━\u001b[0m\u001b[37m\u001b[0m \u001b[1m0s\u001b[0m 46ms/step - accuracy: 1.0000 - loss: 0.6872\n",
            "Epoch 9/10\n",
            "\u001b[1m1/1\u001b[0m \u001b[32m━━━━━━━━━━━━━━━━━━━━\u001b[0m\u001b[37m\u001b[0m \u001b[1m0s\u001b[0m 61ms/step - accuracy: 1.0000 - loss: 0.6863\n",
            "Epoch 10/10\n",
            "\u001b[1m1/1\u001b[0m \u001b[32m━━━━━━━━━━━━━━━━━━━━\u001b[0m\u001b[37m\u001b[0m \u001b[1m0s\u001b[0m 57ms/step - accuracy: 1.0000 - loss: 0.6854\n"
          ]
        },
        {
          "output_type": "stream",
          "name": "stderr",
          "text": [
            "WARNING:absl:You are saving your model as an HDF5 file via `model.save()` or `keras.saving.save_model(model)`. This file format is considered legacy. We recommend using instead the native Keras format, e.g. `model.save('my_model.keras')` or `keras.saving.save_model(model, 'my_model.keras')`. \n"
          ]
        }
      ]
    },
    {
      "cell_type": "code",
      "source": [
        "# predict.py\n",
        "\n",
        "from tensorflow.keras.models import load_model\n",
        "from tensorflow.keras.preprocessing.text import Tokenizer\n",
        "from tensorflow.keras.preprocessing.sequence import pad_sequences\n",
        "import json\n",
        "import os\n",
        "\n",
        "# Check for required files\n",
        "if not os.path.exists(\"sentiment_model.h5\") or not os.path.exists(\"word_index.json\"):\n",
        "    print(\"Required files not found. Please run train.py first.\")\n",
        "    exit()\n",
        "\n",
        "# Load model\n",
        "model = load_model(\"sentiment_model.h5\")\n",
        "\n",
        "# Load tokenizer word index\n",
        "with open(\"word_index.json\", \"r\") as f:\n",
        "    word_index = json.load(f)\n",
        "\n",
        "# Recreate tokenizer\n",
        "tokenizer = Tokenizer(num_words=100, oov_token=\"<OOV>\")\n",
        "tokenizer.word_index = word_index\n",
        "\n",
        "# New sentences to predict\n",
        "test_sentences = [\n",
        "    \"I really enjoyed the movie\",\n",
        "    \"It was a waste of time\",\n",
        "    \"Absolutely loved it\",\n",
        "    \"Terrible plot and acting\"\n",
        "]\n",
        "\n",
        "# Convert and pad\n",
        "test_seq = tokenizer.texts_to_sequences(test_sentences)\n",
        "test_pad = pad_sequences(test_seq, padding='post', maxlen=model.input_shape[1])\n",
        "\n",
        "# Predict\n",
        "predictions = model.predict(test_pad)\n",
        "for sentence, score in zip(test_sentences, predictions):\n",
        "    sentiment = \"Positive\" if score > 0.5 else \"Negative\"\n",
        "    print(f\"{sentence} → {sentiment} ({score[0]:.2f})\")"
      ],
      "metadata": {
        "colab": {
          "base_uri": "https://localhost:8080/"
        },
        "id": "uqBJKt4KotaU",
        "outputId": "aba7f131-37f6-4287-947f-41319af111a6"
      },
      "execution_count": 7,
      "outputs": [
        {
          "output_type": "stream",
          "name": "stderr",
          "text": [
            "WARNING:absl:Compiled the loaded model, but the compiled metrics have yet to be built. `model.compile_metrics` will be empty until you train or evaluate the model.\n"
          ]
        },
        {
          "output_type": "stream",
          "name": "stdout",
          "text": [
            "\u001b[1m1/1\u001b[0m \u001b[32m━━━━━━━━━━━━━━━━━━━━\u001b[0m\u001b[37m\u001b[0m \u001b[1m0s\u001b[0m 114ms/step\n",
            "I really enjoyed the movie → Positive (0.50)\n",
            "It was a waste of time → Positive (0.50)\n",
            "Absolutely loved it → Positive (0.50)\n",
            "Terrible plot and acting → Positive (0.50)\n"
          ]
        }
      ]
    }
  ]
}